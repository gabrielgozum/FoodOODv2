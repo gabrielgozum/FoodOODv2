{
 "cells": [
  {
   "cell_type": "code",
   "execution_count": 1,
   "metadata": {},
   "outputs": [],
   "source": [
    "import json\n",
    "import re\n",
    "import pandas as pd\n",
    "import numpy as np"
   ]
  },
  {
   "cell_type": "code",
   "execution_count": 2,
   "metadata": {},
   "outputs": [
    {
     "data": {
      "text/plain": [
       "<bound method NDFrame.head of                       photo_id             business_id  \\\n",
       "0       zsvj7vloL4L5jhYyPIuVwg  Nk-SJhPlDBkAZvfsADtccA   \n",
       "1       HCUdRJHHm_e0OCTlZetGLg  yVZtL5MmrpiivyCIrVkGgA   \n",
       "2       vkr8T0scuJmGVvN2HJelEA  _ab50qdWOk0DdB6XOrBitw   \n",
       "3       pve7D6NUrafHW3EAORubyw  SZU9c8V2GuREDN5KgyHFJw   \n",
       "4       H52Er-uBg6rNrHcReWTD2w  Gzur0f0XMkrVxIwYJvOt2g   \n",
       "...                        ...                     ...   \n",
       "200095  4Zia9NkAfQNjMfcIDhwJ-g  2HxkdqHmbYGj_BH1bLaiSw   \n",
       "200096  KB96KRZRhRm8hUkI-OpGEA  _gVyuTRb_6HM-SNtqbpevQ   \n",
       "200097  Klmojvaf2_2dP1XKzTsFmQ  NUyEOjfAl3HvkpzSpdwqeA   \n",
       "200098  FNEiq7Mogec7t31OaU5juw  hE6YsHHV0fCz_UrGS4o6VA   \n",
       "200099  NHEtLh7APk7Yssjo0h45VA  VIYvcX9SScnqmoI0so1KZA   \n",
       "\n",
       "                                                  caption    label  \n",
       "0       Nice rock artwork everywhere and craploads of ...   inside  \n",
       "1                                                          outside  \n",
       "2                                          oyster shooter    drink  \n",
       "3                                           Shrimp scampi     food  \n",
       "4                                                             food  \n",
       "...                                                   ...      ...  \n",
       "200095                                            #Nektar     food  \n",
       "200096                                                      inside  \n",
       "200097                                                        food  \n",
       "200098                               Drinks by the water!    drink  \n",
       "200099                                                        food  \n",
       "\n",
       "[200100 rows x 4 columns]>"
      ]
     },
     "execution_count": 2,
     "metadata": {},
     "output_type": "execute_result"
    }
   ],
   "source": [
    "f = open('nobackup/photos.json', 'r')\n",
    "meta = []\n",
    "for line in f:\n",
    "    meta.append(json.loads(line))\n",
    "f.close\n",
    "meta = pd.DataFrame(meta)\n",
    "meta.head   "
   ]
  },
  {
   "cell_type": "code",
   "execution_count": 3,
   "metadata": {},
   "outputs": [
    {
     "data": {
      "text/plain": [
       "array(['inside', 'outside', 'drink', 'food', 'menu'], dtype=object)"
      ]
     },
     "execution_count": 3,
     "metadata": {},
     "output_type": "execute_result"
    }
   ],
   "source": [
    "meta.label.unique()"
   ]
  },
  {
   "attachments": {},
   "cell_type": "markdown",
   "metadata": {},
   "source": [
    "##### Save list of non-food item names"
   ]
  },
  {
   "cell_type": "code",
   "execution_count": 4,
   "metadata": {},
   "outputs": [
    {
     "name": "stderr",
     "output_type": "stream",
     "text": [
      "/u/x/i/xianshi/miniconda3/envs/bert_hw/lib/python3.7/site-packages/pandas/core/generic.py:5516: SettingWithCopyWarning: \n",
      "A value is trying to be set on a copy of a slice from a DataFrame.\n",
      "Try using .loc[row_indexer,col_indexer] = value instead\n",
      "\n",
      "See the caveats in the documentation: https://pandas.pydata.org/pandas-docs/stable/user_guide/indexing.html#returning-a-view-versus-a-copy\n",
      "  self[name] = value\n"
     ]
    },
    {
     "data": {
      "text/plain": [
       "(91948, 4)"
      ]
     },
     "execution_count": 4,
     "metadata": {},
     "output_type": "execute_result"
    }
   ],
   "source": [
    "non_food = meta[meta.label.isin(['inside', 'outside', 'drink', 'menu'])]\n",
    "non_food.photo_id = [id + '.jpg' for id in non_food.photo_id]\n",
    "non_food.shape"
   ]
  },
  {
   "cell_type": "code",
   "execution_count": 5,
   "metadata": {},
   "outputs": [],
   "source": [
    "non_food_list = ' '.join(non_food.photo_id)\n",
    "f = open('non_food_list.txt', 'w')\n",
    "f.write(non_food_list)\n",
    "f.close()"
   ]
  },
  {
   "attachments": {},
   "cell_type": "markdown",
   "metadata": {},
   "source": [
    "##### Select and save (not in food_101) captioned food item list"
   ]
  },
  {
   "cell_type": "code",
   "execution_count": 14,
   "metadata": {},
   "outputs": [
    {
     "name": "stderr",
     "output_type": "stream",
     "text": [
      "/u/x/i/xianshi/miniconda3/envs/bert_hw/lib/python3.7/site-packages/pandas/core/indexing.py:1951: SettingWithCopyWarning: \n",
      "A value is trying to be set on a copy of a slice from a DataFrame.\n",
      "Try using .loc[row_indexer,col_indexer] = value instead\n",
      "\n",
      "See the caveats in the documentation: https://pandas.pydata.org/pandas-docs/stable/user_guide/indexing.html#returning-a-view-versus-a-copy\n",
      "  self.obj[selected_item_labels] = value\n"
     ]
    }
   ],
   "source": [
    "food = meta[meta.label == 'food']\n",
    "food.loc[:,'caption'] = [c.strip().lower() for c in food.caption]"
   ]
  },
  {
   "cell_type": "code",
   "execution_count": 24,
   "metadata": {},
   "outputs": [],
   "source": [
    "f = open('nobackup/food101/food-101/meta/labels.txt', 'r')\n",
    "label_list = f.readlines()\n",
    "f.close()"
   ]
  },
  {
   "cell_type": "code",
   "execution_count": 25,
   "metadata": {},
   "outputs": [
    {
     "data": {
      "text/plain": [
       "['apple pie',\n",
       " 'baby back ribs',\n",
       " 'baklava',\n",
       " 'beef carpaccio',\n",
       " 'beef tartare',\n",
       " 'beet salad',\n",
       " 'beignets',\n",
       " 'bibimbap',\n",
       " 'bread pudding',\n",
       " 'breakfast burrito',\n",
       " 'bruschetta',\n",
       " 'caesar salad',\n",
       " 'cannoli',\n",
       " 'caprese salad',\n",
       " 'carrot cake',\n",
       " 'ceviche',\n",
       " 'cheesecake',\n",
       " 'cheese plate',\n",
       " 'chicken curry',\n",
       " 'chicken quesadilla',\n",
       " 'chicken wings',\n",
       " 'chocolate cake',\n",
       " 'chocolate mousse',\n",
       " 'churros',\n",
       " 'clam chowder',\n",
       " 'club sandwich',\n",
       " 'crab cakes',\n",
       " 'creme brulee',\n",
       " 'croque madame',\n",
       " 'cup cakes',\n",
       " 'deviled eggs',\n",
       " 'donuts',\n",
       " 'dumplings',\n",
       " 'edamame',\n",
       " 'eggs benedict',\n",
       " 'escargots',\n",
       " 'falafel',\n",
       " 'filet mignon',\n",
       " 'fish and chips',\n",
       " 'foie gras',\n",
       " 'french fries',\n",
       " 'french onion soup',\n",
       " 'french toast',\n",
       " 'fried calamari',\n",
       " 'fried rice',\n",
       " 'frozen yogurt',\n",
       " 'garlic bread',\n",
       " 'gnocchi',\n",
       " 'greek salad',\n",
       " 'grilled cheese sandwich',\n",
       " 'grilled salmon',\n",
       " 'guacamole',\n",
       " 'gyoza',\n",
       " 'hamburger',\n",
       " 'hot and sour soup',\n",
       " 'hot dog',\n",
       " 'huevos rancheros',\n",
       " 'hummus',\n",
       " 'ice cream',\n",
       " 'lasagna',\n",
       " 'lobster bisque',\n",
       " 'lobster roll sandwich',\n",
       " 'macaroni and cheese',\n",
       " 'macarons',\n",
       " 'miso soup',\n",
       " 'mussels',\n",
       " 'nachos',\n",
       " 'omelette',\n",
       " 'onion rings',\n",
       " 'oysters',\n",
       " 'pad thai',\n",
       " 'paella',\n",
       " 'pancakes',\n",
       " 'panna cotta',\n",
       " 'peking duck',\n",
       " 'pho',\n",
       " 'pizza',\n",
       " 'pork chop',\n",
       " 'poutine',\n",
       " 'prime rib',\n",
       " 'pulled pork sandwich',\n",
       " 'ramen',\n",
       " 'ravioli',\n",
       " 'red velvet cake',\n",
       " 'risotto',\n",
       " 'samosa',\n",
       " 'sashimi',\n",
       " 'scallops',\n",
       " 'seaweed salad',\n",
       " 'shrimp and grits',\n",
       " 'spaghetti bolognese',\n",
       " 'spaghetti carbonara',\n",
       " 'spring rolls',\n",
       " 'steak',\n",
       " 'strawberry shortcake',\n",
       " 'sushi',\n",
       " 'tacos',\n",
       " 'takoyaki',\n",
       " 'tiramisu',\n",
       " 'tuna tartare',\n",
       " 'waffles']"
      ]
     },
     "execution_count": 25,
     "metadata": {},
     "output_type": "execute_result"
    }
   ],
   "source": [
    "label_list = [l.strip().lower() for l in label_list]\n",
    "label_list"
   ]
  },
  {
   "cell_type": "code",
   "execution_count": 26,
   "metadata": {},
   "outputs": [
    {
     "data": {
      "text/plain": [
       "(52821, 4)"
      ]
     },
     "execution_count": 26,
     "metadata": {},
     "output_type": "execute_result"
    }
   ],
   "source": [
    "food_nocaption = food[food.caption == '']\n",
    "food_nocaption.shape"
   ]
  },
  {
   "cell_type": "code",
   "execution_count": 27,
   "metadata": {},
   "outputs": [],
   "source": [
    "### save uncaptioned food item list\n",
    "food_nocaption_list = ' '.join([c + '.jpg' for c in food_nocaption.photo_id])\n",
    "f = open('food_nocaption_list.txt','w')\n",
    "f.write(food_nocaption_list)\n",
    "f.close"
   ]
  },
  {
   "cell_type": "code",
   "execution_count": 30,
   "metadata": {},
   "outputs": [
    {
     "data": {
      "text/plain": [
       "(1429, 4)"
      ]
     },
     "execution_count": 30,
     "metadata": {},
     "output_type": "execute_result"
    }
   ],
   "source": [
    "food_food101caption = food[food.caption.isin(label_list)]\n",
    "food_food101caption.shape"
   ]
  },
  {
   "cell_type": "code",
   "execution_count": 31,
   "metadata": {},
   "outputs": [
    {
     "data": {
      "text/plain": [
       "<function TextIOWrapper.close()>"
      ]
     },
     "execution_count": 31,
     "metadata": {},
     "output_type": "execute_result"
    }
   ],
   "source": [
    "### save food items captioned with food101 labels\n",
    "food_food101caption_list = ' '.join([c + '.jpg' for c in food_food101caption.photo_id])\n",
    "f = open('food_food101caption_list.txt','w')\n",
    "f.write(food_food101caption_list)\n",
    "f.close()"
   ]
  },
  {
   "cell_type": "code",
   "execution_count": 35,
   "metadata": {},
   "outputs": [
    {
     "data": {
      "text/plain": [
       "139"
      ]
     },
     "execution_count": 35,
     "metadata": {},
     "output_type": "execute_result"
    }
   ],
   "source": [
    "label_words = pd.Series(' '.join(label_list).split(' ')).unique()\n",
    "len(label_words)"
   ]
  },
  {
   "cell_type": "code",
   "execution_count": 40,
   "metadata": {},
   "outputs": [
    {
     "data": {
      "text/plain": [
       "(15879, 4)"
      ]
     },
     "execution_count": 40,
     "metadata": {},
     "output_type": "execute_result"
    }
   ],
   "source": [
    "words_re = re.compile(\"|\".join(label_words))\n",
    "food_not101 = food[[c != '' and (not bool(words_re.search(c))) for c in food.caption]]\n",
    "food_not101.shape"
   ]
  },
  {
   "cell_type": "code",
   "execution_count": 46,
   "metadata": {},
   "outputs": [
    {
     "data": {
      "text/plain": [
       "26    this was the shareable drink called one big sw...\n",
       "39                                               dinner\n",
       "41                        what i thought i was getting!\n",
       "43    this is what the waffle was supposed to look l...\n",
       "91                                         grbic cevapi\n",
       "Name: caption, dtype: object"
      ]
     },
     "execution_count": 46,
     "metadata": {},
     "output_type": "execute_result"
    }
   ],
   "source": [
    "food_not101.caption[0:5]"
   ]
  },
  {
   "cell_type": "code",
   "execution_count": 47,
   "metadata": {},
   "outputs": [],
   "source": [
    "### save food items captioned without food101 label words\n",
    "food_no_101label_words_list = ' '.join([c + '.jpg' for c in food_not101.photo_id])\n",
    "f = open('food_no_101label_words_list.txt','w')\n",
    "f.write(food_no_101label_words_list)\n",
    "f.close()"
   ]
  }
 ],
 "metadata": {
  "kernelspec": {
   "display_name": "CS769",
   "language": "python",
   "name": "cs769"
  },
  "language_info": {
   "codemirror_mode": {
    "name": "ipython",
    "version": 3
   },
   "file_extension": ".py",
   "mimetype": "text/x-python",
   "name": "python",
   "nbconvert_exporter": "python",
   "pygments_lexer": "ipython3",
   "version": "3.7.16"
  },
  "orig_nbformat": 4
 },
 "nbformat": 4,
 "nbformat_minor": 2
}
